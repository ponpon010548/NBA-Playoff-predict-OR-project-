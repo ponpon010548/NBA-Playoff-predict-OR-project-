{
 "cells": [
  {
   "cell_type": "code",
   "execution_count": 1,
   "metadata": {
    "collapsed": true
   },
   "outputs": [],
   "source": [
    "%matplotlib inline\n",
    "import pandas as pd\n",
    "import numpy as np"
   ]
  },
  {
   "cell_type": "markdown",
   "metadata": {},
   "source": [
    "# Read data"
   ]
  },
  {
   "cell_type": "code",
   "execution_count": 2,
   "metadata": {
    "collapsed": true
   },
   "outputs": [],
   "source": [
    "df = pd.read_excel(\"2017-18_teamBoxScore.xlsx\")"
   ]
  },
  {
   "cell_type": "code",
   "execution_count": 3,
   "metadata": {},
   "outputs": [
    {
     "data": {
      "text/html": [
       "<div>\n",
       "<style>\n",
       "    .dataframe thead tr:only-child th {\n",
       "        text-align: right;\n",
       "    }\n",
       "\n",
       "    .dataframe thead th {\n",
       "        text-align: left;\n",
       "    }\n",
       "\n",
       "    .dataframe tbody tr th {\n",
       "        vertical-align: top;\n",
       "    }\n",
       "</style>\n",
       "<table border=\"1\" class=\"dataframe\">\n",
       "  <thead>\n",
       "    <tr style=\"text-align: right;\">\n",
       "      <th></th>\n",
       "      <th>team</th>\n",
       "      <th>Win/loss</th>\n",
       "      <th>Loc</th>\n",
       "      <th>2P%</th>\n",
       "      <th>3P%</th>\n",
       "      <th>FT%</th>\n",
       "      <th>ASST%</th>\n",
       "      <th>TS%</th>\n",
       "      <th>TREB%</th>\n",
       "      <th>STL%</th>\n",
       "      <th>BLK%</th>\n",
       "      <th>teamEDiff</th>\n",
       "      <th>EFG%</th>\n",
       "      <th>OREB%</th>\n",
       "      <th>TO%</th>\n",
       "    </tr>\n",
       "  </thead>\n",
       "  <tbody>\n",
       "    <tr>\n",
       "      <th>0</th>\n",
       "      <td>ATL</td>\n",
       "      <td>1</td>\n",
       "      <td>0</td>\n",
       "      <td>0.5132</td>\n",
       "      <td>0.5000</td>\n",
       "      <td>0.8000</td>\n",
       "      <td>41.6667</td>\n",
       "      <td>0.5815</td>\n",
       "      <td>54.9451</td>\n",
       "      <td>11.1027</td>\n",
       "      <td>6.0560</td>\n",
       "      <td>6.0560</td>\n",
       "      <td>0.5585</td>\n",
       "      <td>30.4348</td>\n",
       "      <td>11.4437</td>\n",
       "    </tr>\n",
       "    <tr>\n",
       "      <th>1</th>\n",
       "      <td>ATL</td>\n",
       "      <td>0</td>\n",
       "      <td>0</td>\n",
       "      <td>0.4462</td>\n",
       "      <td>0.2333</td>\n",
       "      <td>0.8571</td>\n",
       "      <td>52.7778</td>\n",
       "      <td>0.4498</td>\n",
       "      <td>40.0000</td>\n",
       "      <td>10.4326</td>\n",
       "      <td>3.7937</td>\n",
       "      <td>-17.0715</td>\n",
       "      <td>0.4158</td>\n",
       "      <td>11.7647</td>\n",
       "      <td>11.3875</td>\n",
       "    </tr>\n",
       "    <tr>\n",
       "      <th>2</th>\n",
       "      <td>ATL</td>\n",
       "      <td>0</td>\n",
       "      <td>0</td>\n",
       "      <td>0.3731</td>\n",
       "      <td>0.2593</td>\n",
       "      <td>0.9167</td>\n",
       "      <td>65.6250</td>\n",
       "      <td>0.4734</td>\n",
       "      <td>48.4848</td>\n",
       "      <td>5.7382</td>\n",
       "      <td>1.9127</td>\n",
       "      <td>-11.4765</td>\n",
       "      <td>0.3777</td>\n",
       "      <td>29.6296</td>\n",
       "      <td>12.7146</td>\n",
       "    </tr>\n",
       "    <tr>\n",
       "      <th>3</th>\n",
       "      <td>ATL</td>\n",
       "      <td>0</td>\n",
       "      <td>0</td>\n",
       "      <td>0.4915</td>\n",
       "      <td>0.4118</td>\n",
       "      <td>0.7778</td>\n",
       "      <td>38.8889</td>\n",
       "      <td>0.5541</td>\n",
       "      <td>50.0000</td>\n",
       "      <td>9.1129</td>\n",
       "      <td>1.0125</td>\n",
       "      <td>-11.1381</td>\n",
       "      <td>0.5197</td>\n",
       "      <td>16.2162</td>\n",
       "      <td>20.0152</td>\n",
       "    </tr>\n",
       "    <tr>\n",
       "      <th>4</th>\n",
       "      <td>ATL</td>\n",
       "      <td>0</td>\n",
       "      <td>0</td>\n",
       "      <td>0.3962</td>\n",
       "      <td>0.3929</td>\n",
       "      <td>0.8462</td>\n",
       "      <td>68.7500</td>\n",
       "      <td>0.4958</td>\n",
       "      <td>39.2157</td>\n",
       "      <td>10.9991</td>\n",
       "      <td>5.4995</td>\n",
       "      <td>-5.4995</td>\n",
       "      <td>0.4630</td>\n",
       "      <td>13.7255</td>\n",
       "      <td>10.3391</td>\n",
       "    </tr>\n",
       "  </tbody>\n",
       "</table>\n",
       "</div>"
      ],
      "text/plain": [
       "  team  Win/loss  Loc     2P%     3P%     FT%    ASST%     TS%    TREB%  \\\n",
       "0  ATL         1    0  0.5132  0.5000  0.8000  41.6667  0.5815  54.9451   \n",
       "1  ATL         0    0  0.4462  0.2333  0.8571  52.7778  0.4498  40.0000   \n",
       "2  ATL         0    0  0.3731  0.2593  0.9167  65.6250  0.4734  48.4848   \n",
       "3  ATL         0    0  0.4915  0.4118  0.7778  38.8889  0.5541  50.0000   \n",
       "4  ATL         0    0  0.3962  0.3929  0.8462  68.7500  0.4958  39.2157   \n",
       "\n",
       "      STL%    BLK%  teamEDiff    EFG%    OREB%      TO%  \n",
       "0  11.1027  6.0560     6.0560  0.5585  30.4348  11.4437  \n",
       "1  10.4326  3.7937   -17.0715  0.4158  11.7647  11.3875  \n",
       "2   5.7382  1.9127   -11.4765  0.3777  29.6296  12.7146  \n",
       "3   9.1129  1.0125   -11.1381  0.5197  16.2162  20.0152  \n",
       "4  10.9991  5.4995    -5.4995  0.4630  13.7255  10.3391  "
      ]
     },
     "execution_count": 3,
     "metadata": {},
     "output_type": "execute_result"
    }
   ],
   "source": [
    "df.head()"
   ]
  },
  {
   "cell_type": "code",
   "execution_count": 4,
   "metadata": {
    "collapsed": true
   },
   "outputs": [],
   "source": [
    "ndarray = df.values"
   ]
  },
  {
   "cell_type": "code",
   "execution_count": 5,
   "metadata": {},
   "outputs": [
    {
     "data": {
      "text/plain": [
       "(2460, 15)"
      ]
     },
     "execution_count": 5,
     "metadata": {},
     "output_type": "execute_result"
    }
   ],
   "source": [
    "ndarray.shape"
   ]
  },
  {
   "cell_type": "code",
   "execution_count": 6,
   "metadata": {
    "collapsed": true
   },
   "outputs": [],
   "source": [
    "def PreprocessData(raw_df):\n",
    "    ndarray = df.values\n",
    "    Features = ndarray[:,2:15]\n",
    "    Label = ndarray[:,1]\n",
    "    return Features , Label"
   ]
  },
  {
   "cell_type": "code",
   "execution_count": 7,
   "metadata": {},
   "outputs": [
    {
     "name": "stdout",
     "output_type": "stream",
     "text": [
      "total: 2460 train: 1978 test: 482\n"
     ]
    }
   ],
   "source": [
    "from sklearn import preprocessing\n",
    "msk = np.random.rand(len(df))<0.8\n",
    "train_df = df[msk]\n",
    "test_df = df[~msk]\n",
    "train_Features,train_Label = PreprocessData(train_df)\n",
    "test_Features,test_Label = PreprocessData(test_df)\n",
    "print('total:',len(df) ,\n",
    "      'train:',len(train_df),\n",
    "      'test:',len(test_df))"
   ]
  },
  {
   "cell_type": "code",
   "execution_count": 8,
   "metadata": {},
   "outputs": [
    {
     "name": "stderr",
     "output_type": "stream",
     "text": [
      "Using TensorFlow backend.\n"
     ]
    }
   ],
   "source": [
    "from keras.models import Sequential\n",
    "from keras.layers import Dense,Dropout,Activation"
   ]
  },
  {
   "cell_type": "code",
   "execution_count": 9,
   "metadata": {
    "collapsed": true
   },
   "outputs": [],
   "source": [
    "model = Sequential()"
   ]
  },
  {
   "cell_type": "code",
   "execution_count": 10,
   "metadata": {
    "collapsed": true
   },
   "outputs": [],
   "source": [
    "model.add(Dense(units = 60, input_dim = 13, \n",
    "                activation = 'relu'))\n",
    "model.add(Dropout(0.3))"
   ]
  },
  {
   "cell_type": "code",
   "execution_count": 11,
   "metadata": {
    "collapsed": true
   },
   "outputs": [],
   "source": [
    "model.add(Dense(units = 30, \n",
    "                activation = 'relu'))\n",
    "model.add(Dropout(0.5))"
   ]
  },
  {
   "cell_type": "code",
   "execution_count": 12,
   "metadata": {
    "collapsed": true
   },
   "outputs": [],
   "source": [
    "model.add(Dense(units = 1,\n",
    "                activation = 'sigmoid'))"
   ]
  },
  {
   "cell_type": "code",
   "execution_count": 13,
   "metadata": {
    "collapsed": true
   },
   "outputs": [],
   "source": [
    "model.compile(loss='binary_crossentropy',\n",
    "              optimizer = 'adam' ,metrics=['accuracy'])"
   ]
  },
  {
   "cell_type": "code",
   "execution_count": 14,
   "metadata": {},
   "outputs": [
    {
     "name": "stdout",
     "output_type": "stream",
     "text": [
      "Epoch 1/10\n",
      "2460/2460 [==============================] - 1s 514us/step - loss: 1.7211 - acc: 0.6512\n",
      "Epoch 2/10\n",
      "2460/2460 [==============================] - 1s 246us/step - loss: 0.3649 - acc: 0.8341\n",
      "Epoch 3/10\n",
      "2460/2460 [==============================] - 1s 208us/step - loss: 0.2396 - acc: 0.9000\n",
      "Epoch 4/10\n",
      "2460/2460 [==============================] - 1s 230us/step - loss: 0.1584 - acc: 0.9346\n",
      "Epoch 5/10\n",
      "2460/2460 [==============================] - 1s 234us/step - loss: 0.1074 - acc: 0.9589 0s - loss: 0.1156 - acc\n",
      "Epoch 6/10\n",
      "2460/2460 [==============================] - 1s 249us/step - loss: 0.0884 - acc: 0.9638\n",
      "Epoch 7/10\n",
      "2460/2460 [==============================] - 1s 250us/step - loss: 0.0560 - acc: 0.9760\n",
      "Epoch 8/10\n",
      "2460/2460 [==============================] - 1s 271us/step - loss: 0.0549 - acc: 0.9785\n",
      "Epoch 9/10\n",
      "2460/2460 [==============================] - 1s 238us/step - loss: 0.0499 - acc: 0.9829\n",
      "Epoch 10/10\n",
      "2460/2460 [==============================] - 1s 263us/step - loss: 0.0424 - acc: 0.9841\n"
     ]
    }
   ],
   "source": [
    "train_history = model.fit(x = train_Features, \n",
    "                          y = train_Label\n",
    "                          ,epochs=10 , batch_size=16 )"
   ]
  },
  {
   "cell_type": "code",
   "execution_count": 15,
   "metadata": {},
   "outputs": [
    {
     "name": "stdout",
     "output_type": "stream",
     "text": [
      "2460/2460 [==============================] - 0s 121us/step\n"
     ]
    }
   ],
   "source": [
    "scores = model.evaluate(x = test_Features , y=test_Label)"
   ]
  },
  {
   "cell_type": "code",
   "execution_count": 16,
   "metadata": {},
   "outputs": [
    {
     "data": {
      "text/plain": [
       "0.99959349593495939"
      ]
     },
     "execution_count": 16,
     "metadata": {},
     "output_type": "execute_result"
    }
   ],
   "source": [
    "scores[1]"
   ]
  },
  {
   "cell_type": "code",
   "execution_count": 17,
   "metadata": {
    "collapsed": true
   },
   "outputs": [],
   "source": [
    "BOS = df[200:246]\n",
    "CLE = df[410:492]\n",
    "GS = df[738:820]\n",
    "HOU = df[820:902]\n",
    "IND = df[902:984]\n",
    "MIA = df[1230:1312]\n",
    "MIL = df[1312:1394]\n",
    "MIN = df[1394:1476]\n",
    "NO = df[1530:1558]\n",
    "OKC = df[1722:1804]\n",
    "PHI = df[1804:1886]\n",
    "POR = df[1968:2050]\n",
    "SA = df[2175:2214]\n",
    "TOR = df[2250:2296]\n",
    "UTA = df[2296:2378]\n",
    "WAS = df[2378:2460]\n",
    "BOS_1 = pd.read_excel(\"BOS1.xlsx\")\n",
    "BOS_2 = pd.read_excel(\"BOS2.xlsx\")\n",
    "CLE_1 = pd.read_excel(\"CLE1.xlsx\")\n",
    "CLE_2 = pd.read_excel(\"CLE2.xlsx\")\n",
    "CLE_3 = pd.read_excel(\"CLE3.xlsx\")\n",
    "HOU_1 = pd.read_excel(\"HOU1.xlsx\")\n",
    "HOU_2 = pd.read_excel(\"HOU2.xlsx\")\n",
    "GS_1 = pd.read_excel(\"GS1.xlsx\")\n",
    "GS_2 = pd.read_excel(\"GS2.xlsx\")\n",
    "GS_3 = pd.read_excel(\"GS3.xlsx\")\n",
    "UTA_1 = pd.read_excel(\"UTA1.xlsx\")\n",
    "PHI_1 = pd.read_excel(\"PHI1.xlsx\")\n",
    "NO_1 = pd.read_excel(\"NO1.xlsx\")\n",
    "TOR_1 = pd.read_excel(\"TOR1.xlsx\")"
   ]
  },
  {
   "cell_type": "code",
   "execution_count": 18,
   "metadata": {
    "collapsed": true
   },
   "outputs": [],
   "source": [
    "def InputData(df_team):\n",
    "    df_team = pd.DataFrame(df_team)\n",
    "    df_team.rename(columns={'TEAM':'team' , 'Home/Guest':'Loc' , 'AST%':'ASST%','TRB%':'TREB%','Diff':'teamEDiff','eFG%':'EFG%','ORB%':'OREB%','TOV%':'TO%'})\n",
    "    df_team = df_team.values\n",
    "    df_team = np.matrix(df_team)\n",
    "    df_team = df[0:][['2P%' , '3P%' , 'FT%' , 'ASST%' , 'TS%' , 'TREB%' ,'STL%' , 'BLK%' , 'teamEDiff' , 'EFG%', 'OREB%' , 'TO%']]\n",
    "    df_team_analysis = df_team.describe()\n",
    "    df_team_analysis = df_team_analysis[1:3]\n",
    "    df_team_noise=df_team_analysis.values\n",
    "    g=[]\n",
    "    for i in range(12):\n",
    "        k = np.arange(12)\n",
    "        g.append((\"a_%s\")%k[i])\n",
    "        g[i] = np.random.normal(0 , 0.2 ,1)\n",
    "    g = np.array(g)\n",
    "    noise = []\n",
    "    for j in range(12):\n",
    "        l = g[j] * df_team_noise [1][j]\n",
    "        noise.append(l)\n",
    "    noise = np.matrix(noise)\n",
    "    noise = noise.T\n",
    "    df_team_noise[0] = np.matrix(df_team_noise[0])\n",
    "    return df_team_noise[0] + noise"
   ]
  },
  {
   "cell_type": "code",
   "execution_count": 19,
   "metadata": {
    "collapsed": true
   },
   "outputs": [],
   "source": [
    "def Home(team1):\n",
    "    M = [1]\n",
    "    Home_data = InputData(team1)\n",
    "    Home_data = pd.DataFrame(Home_data)\n",
    "    Home_data.insert(0,'Loc',M)\n",
    "    Home_data_f = Home_data.values\n",
    "    team1 = Home_data_f\n",
    "    return team1"
   ]
  },
  {
   "cell_type": "code",
   "execution_count": 20,
   "metadata": {
    "collapsed": true
   },
   "outputs": [],
   "source": [
    "def Guest(team2):\n",
    "    N = [0]\n",
    "    Guest_data = InputData(team2)\n",
    "    Guest_data = pd.DataFrame(Guest_data)\n",
    "    Guest_data.insert(0,'Loc',N)\n",
    "    Guest_data_f = Guest_data.values\n",
    "    team2 = Guest_data_f\n",
    "    return team2"
   ]
  },
  {
   "cell_type": "code",
   "execution_count": 21,
   "metadata": {
    "collapsed": true
   },
   "outputs": [],
   "source": [
    "def series(team1,team2):\n",
    "    temp1 = InputData(team1) \n",
    "    temp2 = InputData(team2)\n",
    "    i = 0\n",
    "    j = 0\n",
    "    while (i < 4) and (j<4):\n",
    "        team1 = temp1\n",
    "        team2 = temp2\n",
    "        if 1<(i+j)<4:\n",
    "            team1 = Guest(team1)\n",
    "            team2 = Home(team2)\n",
    "        if 4<(i+j)<6:\n",
    "            team1 = Guest(team1)\n",
    "            team2 = Home(team2)\n",
    "        else:\n",
    "            team1 = Home(team1)\n",
    "            team2 = Guest(team2)\n",
    "            team1_win_percent = model.predict(team1)\n",
    "            team2_win_percent = model.predict(team2)\n",
    "        if team1_win_percent>team2_win_percent:\n",
    "            i = i+1\n",
    "            print(\"%s : win  , %s : lose \" %(TEAM[0],TEAM[1]))\n",
    "            if i == 4:\n",
    "                print(\"%s win the series\" %TEAM[0])\n",
    "                break\n",
    "        else:\n",
    "            j = j+1\n",
    "            print(\"%s : lose ,%s : win  \" %(TEAM[0],TEAM[1]))\n",
    "            if j == 4:\n",
    "                print(\"%s win the series\" %TEAM[1])\n",
    "                break"
   ]
  },
  {
   "cell_type": "markdown",
   "metadata": {},
   "source": [
    "# Start to predict"
   ]
  },
  {
   "cell_type": "markdown",
   "metadata": {},
   "source": [
    "# Western conference first round"
   ]
  },
  {
   "cell_type": "code",
   "execution_count": 22,
   "metadata": {},
   "outputs": [
    {
     "name": "stdout",
     "output_type": "stream",
     "text": [
      "GS : lose ,SA : win  \n",
      "GS : lose ,SA : win  \n",
      "GS : win  , SA : lose \n",
      "GS : lose ,SA : win  \n",
      "GS : lose ,SA : win  \n",
      "SA win the series\n",
      "OKC : win  , UTA : lose \n",
      "OKC : lose ,UTA : win  \n",
      "OKC : lose ,UTA : win  \n",
      "OKC : lose ,UTA : win  \n",
      "OKC : lose ,UTA : win  \n",
      "UTA win the series\n",
      "HOU : win  , MIN : lose \n",
      "HOU : lose ,MIN : win  \n",
      "HOU : lose ,MIN : win  \n",
      "HOU : win  , MIN : lose \n",
      "HOU : lose ,MIN : win  \n",
      "HOU : lose ,MIN : win  \n",
      "MIN win the series\n",
      "POR : win  , NO : lose \n",
      "POR : lose ,NO : win  \n",
      "POR : lose ,NO : win  \n",
      "POR : lose ,NO : win  \n",
      "POR : lose ,NO : win  \n",
      "NO win the series\n"
     ]
    }
   ],
   "source": [
    "TEAM = ['GS','SA']\n",
    "series(GS,SA)\n",
    "TEAM = ['OKC','UTA']\n",
    "series(OKC,UTA)\n",
    "TEAM = ['HOU','MIN']\n",
    "series(HOU,WAS)\n",
    "TEAM = ['POR','NO']\n",
    "series(POR,NO)"
   ]
  },
  {
   "cell_type": "markdown",
   "metadata": {},
   "source": [
    "# Eastern conference first round"
   ]
  },
  {
   "cell_type": "code",
   "execution_count": 23,
   "metadata": {},
   "outputs": [
    {
     "name": "stdout",
     "output_type": "stream",
     "text": [
      "CLE : win  , IND : lose \n",
      "CLE : win  , IND : lose \n",
      "CLE : lose ,IND : win  \n",
      "CLE : lose ,IND : win  \n",
      "CLE : lose ,IND : win  \n",
      "CLE : lose ,IND : win  \n",
      "IND win the series\n",
      "PHI : lose ,MIA : win  \n",
      "PHI : win  , MIA : lose \n",
      "PHI : win  , MIA : lose \n",
      "PHI : win  , MIA : lose \n",
      "PHI : lose ,MIA : win  \n",
      "PHI : lose ,MIA : win  \n",
      "PHI : win  , MIA : lose \n",
      "PHI win the series\n",
      "BOS : lose ,MIL : win  \n",
      "BOS : win  , MIL : lose \n",
      "BOS : lose ,MIL : win  \n",
      "BOS : win  , MIL : lose \n",
      "BOS : win  , MIL : lose \n",
      "BOS : win  , MIL : lose \n",
      "BOS win the series\n",
      "TOR : win  , WAS : lose \n",
      "TOR : lose ,WAS : win  \n",
      "TOR : win  , WAS : lose \n",
      "TOR : win  , WAS : lose \n",
      "TOR : lose ,WAS : win  \n",
      "TOR : lose ,WAS : win  \n",
      "TOR : win  , WAS : lose \n",
      "TOR win the series\n"
     ]
    }
   ],
   "source": [
    "TEAM = ['CLE','IND']\n",
    "series(CLE,IND)\n",
    "TEAM = ['PHI','MIA']\n",
    "series(PHI,MIA)\n",
    "TEAM = ['BOS','MIL']\n",
    "series(BOS,MIL)\n",
    "TEAM = ['TOR','WAS']\n",
    "series(TOR,WAS)"
   ]
  },
  {
   "cell_type": "markdown",
   "metadata": {},
   "source": [
    "# Western Conference Semifinals"
   ]
  },
  {
   "cell_type": "code",
   "execution_count": 24,
   "metadata": {},
   "outputs": [
    {
     "name": "stdout",
     "output_type": "stream",
     "text": [
      "GS : win  , NO : lose \n",
      "GS : lose ,NO : win  \n",
      "GS : win  , NO : lose \n",
      "GS : lose ,NO : win  \n",
      "GS : win  , NO : lose \n",
      "GS : win  , NO : lose \n",
      "GS win the series\n",
      "HOU : win  , OKC : lose \n",
      "HOU : win  , OKC : lose \n",
      "HOU : win  , OKC : lose \n",
      "HOU : lose ,OKC : win  \n",
      "HOU : win  , OKC : lose \n",
      "HOU win the series\n"
     ]
    }
   ],
   "source": [
    "TEAM = ['GS','NO']\n",
    "series(GS_1,NO_1)\n",
    "TEAM = ['HOU','OKC']\n",
    "series(HOU_1,OKC)"
   ]
  },
  {
   "cell_type": "markdown",
   "metadata": {},
   "source": [
    "# Eastern Conference Semifinals"
   ]
  },
  {
   "cell_type": "code",
   "execution_count": 25,
   "metadata": {},
   "outputs": [
    {
     "name": "stdout",
     "output_type": "stream",
     "text": [
      "MIA : win  , MIL : lose \n",
      "MIA : lose ,MIL : win  \n",
      "MIA : lose ,MIL : win  \n",
      "MIA : win  , MIL : lose \n",
      "MIA : lose ,MIL : win  \n",
      "MIA : lose ,MIL : win  \n",
      "MIL win the series\n",
      "TOR : win  , CLE : lose \n",
      "TOR : win  , CLE : lose \n",
      "TOR : lose ,CLE : win  \n",
      "TOR : lose ,CLE : win  \n",
      "TOR : lose ,CLE : win  \n",
      "TOR : lose ,CLE : win  \n",
      "CLE win the series\n"
     ]
    }
   ],
   "source": [
    "TEAM = ['MIA','MIL']\n",
    "series(MIA,MIL)\n",
    "TEAM = ['TOR','CLE']\n",
    "series(TOR_1,CLE_1)"
   ]
  },
  {
   "cell_type": "markdown",
   "metadata": {},
   "source": [
    "# Western Conference Finals"
   ]
  },
  {
   "cell_type": "code",
   "execution_count": 26,
   "metadata": {},
   "outputs": [
    {
     "name": "stdout",
     "output_type": "stream",
     "text": [
      "HOU : lose ,GS : win  \n",
      "HOU : lose ,GS : win  \n",
      "HOU : win  , GS : lose \n",
      "HOU : lose ,GS : win  \n",
      "HOU : win  , GS : lose \n",
      "HOU : win  , GS : lose \n",
      "HOU : lose ,GS : win  \n",
      "GS win the series\n"
     ]
    }
   ],
   "source": [
    "TEAM = ['HOU','GS']\n",
    "series(HOU_2,GS_2)"
   ]
  },
  {
   "cell_type": "markdown",
   "metadata": {},
   "source": [
    "# Eastern Conference Finals"
   ]
  },
  {
   "cell_type": "code",
   "execution_count": 27,
   "metadata": {},
   "outputs": [
    {
     "name": "stdout",
     "output_type": "stream",
     "text": [
      "CLE : lose ,MIA : win  \n",
      "CLE : win  , MIA : lose \n",
      "CLE : lose ,MIA : win  \n",
      "CLE : lose ,MIA : win  \n",
      "CLE : win  , MIA : lose \n",
      "CLE : win  , MIA : lose \n",
      "CLE : win  , MIA : lose \n",
      "CLE win the series\n"
     ]
    }
   ],
   "source": [
    "TEAM = ['CLE','MIA']\n",
    "series(CLE_2,MIA)"
   ]
  },
  {
   "cell_type": "markdown",
   "metadata": {},
   "source": [
    "# NBA FINALS"
   ]
  },
  {
   "cell_type": "code",
   "execution_count": 42,
   "metadata": {},
   "outputs": [
    {
     "name": "stdout",
     "output_type": "stream",
     "text": [
      "GS : win  , CLE : lose \n",
      "GS : win  , CLE : lose \n",
      "GS : lose ,CLE : win  \n",
      "GS : win  , CLE : lose \n",
      "GS : win  , CLE : lose \n",
      "GS win the series\n"
     ]
    }
   ],
   "source": [
    "TEAM = ['GS' ,'CLE']\n",
    "series(GS_3,CLE_3)"
   ]
  },
  {
   "cell_type": "code",
   "execution_count": 28,
   "metadata": {},
   "outputs": [
    {
     "name": "stdout",
     "output_type": "stream",
     "text": [
      "GS : lose ,CLE : win  \n",
      "GS : win  , CLE : lose \n",
      "GS : win  , CLE : lose \n",
      "GS : win  , CLE : lose \n",
      "GS : win  , CLE : lose \n",
      "GS win the series\n"
     ]
    }
   ],
   "source": [
    "##real\n",
    "TEAM = ['GS' ,'CLE']\n",
    "series(GS_3,CLE_3)"
   ]
  },
  {
   "cell_type": "code",
   "execution_count": null,
   "metadata": {
    "collapsed": true
   },
   "outputs": [],
   "source": []
  },
  {
   "cell_type": "code",
   "execution_count": null,
   "metadata": {
    "collapsed": true
   },
   "outputs": [],
   "source": []
  },
  {
   "cell_type": "code",
   "execution_count": null,
   "metadata": {
    "collapsed": true
   },
   "outputs": [],
   "source": []
  },
  {
   "cell_type": "code",
   "execution_count": null,
   "metadata": {
    "collapsed": true
   },
   "outputs": [],
   "source": []
  },
  {
   "cell_type": "code",
   "execution_count": null,
   "metadata": {
    "collapsed": true
   },
   "outputs": [],
   "source": []
  },
  {
   "cell_type": "code",
   "execution_count": null,
   "metadata": {
    "collapsed": true
   },
   "outputs": [],
   "source": []
  },
  {
   "cell_type": "code",
   "execution_count": null,
   "metadata": {
    "collapsed": true
   },
   "outputs": [],
   "source": []
  },
  {
   "cell_type": "code",
   "execution_count": null,
   "metadata": {
    "collapsed": true
   },
   "outputs": [],
   "source": []
  },
  {
   "cell_type": "code",
   "execution_count": null,
   "metadata": {
    "collapsed": true
   },
   "outputs": [],
   "source": []
  },
  {
   "cell_type": "code",
   "execution_count": null,
   "metadata": {
    "collapsed": true
   },
   "outputs": [],
   "source": []
  }
 ],
 "metadata": {
  "kernelspec": {
   "display_name": "Tensorflow",
   "language": "python",
   "name": "tensorflow"
  },
  "language_info": {
   "codemirror_mode": {
    "name": "ipython",
    "version": 3
   },
   "file_extension": ".py",
   "mimetype": "text/x-python",
   "name": "python",
   "nbconvert_exporter": "python",
   "pygments_lexer": "ipython3",
   "version": "3.6.3"
  }
 },
 "nbformat": 4,
 "nbformat_minor": 2
}
